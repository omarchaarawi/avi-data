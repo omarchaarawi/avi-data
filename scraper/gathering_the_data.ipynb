{
 "cells": [
  {
   "cell_type": "markdown",
   "metadata": {},
   "source": [
    "# Gathering the data"
   ]
  },
  {
   "cell_type": "markdown",
   "metadata": {},
   "source": [
    "## Avalanche Data Scraper"
   ]
  },
  {
   "cell_type": "markdown",
   "metadata": {},
   "source": [
    "So I wanted to assemble some of the data from CAIC for awhile now, and decided to use the Covid-19 situation of 2020 as an excuse to get going on this.\n",
    "\n",
    "I am mostly concerned with what the last few years have looked like for Colorado in terms of avalanche danger and how that has corresoponded to injuries and/or fatalities. CAIC does a really good job reporting on avalanche conditions but unfortunately it is hard to find data from past reports assembed in one, easy-to-find location. I built a little scraper to pull the data from CAIC so that I can/ assemble it somewhere and play around with it a little."
   ]
  },
  {
   "cell_type": "markdown",
   "metadata": {},
   "source": [
    "For anyone unfamiliar with CAIC. This is the Colorado Avalanche Information Center. They do the avalanche research and reports in Colorado. This data is used by CDOT and backcountry explorers. https://avalanche.state.co.us/"
   ]
  },
  {
   "cell_type": "markdown",
   "metadata": {},
   "source": [
    "The forecasts are split into 10 zones, identified by zone_id.\n",
    "\n",
    "    zone_0 = Steamboat & Flat Tops\n",
    "    zone_1 = Front Range\n",
    "    zone_2 = Vail & Summit County\n",
    "    zone_3 = Sawatch\n",
    "    zone_4 = Aspen\n",
    "    zone_5 = Gunnison\n",
    "    zone_6 = Grand Mesa\n",
    "    zone_7 = North San Juan\n",
    "    zone_8 = South San Juan\n",
    "    zone_9 = Sangre de Cristo"
   ]
  },
  {
   "cell_type": "markdown",
   "metadata": {},
   "source": [
    "## The scraper\n",
    "\n",
    "The scraper I wrote works by iterating throught the archives on CAIC's website, pulling the data of interest. If you take a look at the **helpers.py** file you can see a function called **getAviData()**. The function takes a zone id as an argument and then gathers all the data on avi danger available from the CAIC archives. The data is saved as a csv in the format **\"[YYY-)MM-DD]_[zone_id]_aviDanger.csv\"**. If I pulled the data from zone 0 on September 10th, 2020, the file would be saved as **2020-09-10_zone_0_aviDanger.csv**. After the data is pulled it is saved in my personal archive, a folder named **data**. "
   ]
  },
  {
   "cell_type": "markdown",
   "metadata": {},
   "source": [
    "## The Avi Danger Data\n",
    "\n",
    "The data I pulled from CAIC was the rating for danger given that day. Danger is assessed by CAIC avalanche forecasters everyday during the avi season. The danger is rated at three different altitudes with a rating between 0 and 5.  \n",
    "\n",
    "        0 = No Rating\n",
    "        1 = Low\n",
    "        2 = Moderate\n",
    "        3 = Considerable\n",
    "        4 = High\n",
    "        5 = Extreme\n",
    "\n",
    "Here's an example of a forecast:\n",
    "![](./images/avi_forecast_example.png)"
   ]
  },
  {
   "cell_type": "markdown",
   "metadata": {},
   "source": [
    "After I pulled the data this is what a csv file looks like:\n",
    "![](./images/data_frame_aviDanger_example.png)"
   ]
  },
  {
   "cell_type": "markdown",
   "metadata": {},
   "source": [
    "# Connecting Burials to Avalanche Data"
   ]
  },
  {
   "cell_type": "markdown",
   "metadata": {},
   "source": [
    "All the data for accidents over the past seven years I have saved in a csv file. The data is organized as follows:\n",
    "          \n",
    "          date, zone_id, activity, number caught, number buried, number killed\n",
    "          \n",
    "Activities are abreviated:\n",
    "\n",
    "    sm = snowmobiling\n",
    "    sk = skiing\n",
    "    sb = snowboarding\n",
    "    sc = snow cat\n",
    "    ss = snow shoe\n",
    "    ft = on foot (such as in climbing)\n",
    "    ** = other such as shoveling ones roof off"
   ]
  },
  {
   "cell_type": "code",
   "execution_count": 4,
   "metadata": {},
   "outputs": [],
   "source": [
    "import pandas as pd\n",
    "import numpy as np\n",
    "%matplotlib inline"
   ]
  },
  {
   "cell_type": "code",
   "execution_count": 5,
   "metadata": {},
   "outputs": [],
   "source": [
    "data = pd.read_csv(\"./data/accidents_.csv\")\n",
    "df_accidents = pd.DataFrame(data=data)"
   ]
  },
  {
   "cell_type": "code",
   "execution_count": 10,
   "metadata": {},
   "outputs": [
    {
     "data": {
      "text/html": [
       "<div>\n",
       "<style scoped>\n",
       "    .dataframe tbody tr th:only-of-type {\n",
       "        vertical-align: middle;\n",
       "    }\n",
       "\n",
       "    .dataframe tbody tr th {\n",
       "        vertical-align: top;\n",
       "    }\n",
       "\n",
       "    .dataframe thead th {\n",
       "        text-align: right;\n",
       "    }\n",
       "</style>\n",
       "<table border=\"1\" class=\"dataframe\">\n",
       "  <thead>\n",
       "    <tr style=\"text-align: right;\">\n",
       "      <th></th>\n",
       "      <th>date</th>\n",
       "      <th>zone_id</th>\n",
       "      <th>activity</th>\n",
       "      <th>caught</th>\n",
       "      <th>buried</th>\n",
       "      <th>killed</th>\n",
       "    </tr>\n",
       "  </thead>\n",
       "  <tbody>\n",
       "    <tr>\n",
       "      <th>0</th>\n",
       "      <td>2017-02-14</td>\n",
       "      <td>0</td>\n",
       "      <td>sm</td>\n",
       "      <td>2</td>\n",
       "      <td>1</td>\n",
       "      <td>1</td>\n",
       "    </tr>\n",
       "    <tr>\n",
       "      <th>1</th>\n",
       "      <td>2017-01-12</td>\n",
       "      <td>0</td>\n",
       "      <td>sk</td>\n",
       "      <td>1</td>\n",
       "      <td>0</td>\n",
       "      <td>0</td>\n",
       "    </tr>\n",
       "    <tr>\n",
       "      <th>2</th>\n",
       "      <td>2019-12-15</td>\n",
       "      <td>0</td>\n",
       "      <td>sb</td>\n",
       "      <td>2</td>\n",
       "      <td>1</td>\n",
       "      <td>0</td>\n",
       "    </tr>\n",
       "    <tr>\n",
       "      <th>3</th>\n",
       "      <td>2016-12-11</td>\n",
       "      <td>0</td>\n",
       "      <td>sm</td>\n",
       "      <td>1</td>\n",
       "      <td>2</td>\n",
       "      <td>0</td>\n",
       "    </tr>\n",
       "    <tr>\n",
       "      <th>4</th>\n",
       "      <td>2013-12-31</td>\n",
       "      <td>0</td>\n",
       "      <td>sb</td>\n",
       "      <td>1</td>\n",
       "      <td>1</td>\n",
       "      <td>1</td>\n",
       "    </tr>\n",
       "  </tbody>\n",
       "</table>\n",
       "</div>"
      ],
      "text/plain": [
       "         date  zone_id activity  caught  buried  killed\n",
       "0  2017-02-14        0       sm       2       1       1\n",
       "1  2017-01-12        0       sk       1       0       0\n",
       "2  2019-12-15        0       sb       2       1       0\n",
       "3  2016-12-11        0       sm       1       2       0\n",
       "4  2013-12-31        0       sb       1       1       1"
      ]
     },
     "execution_count": 10,
     "metadata": {},
     "output_type": "execute_result"
    }
   ],
   "source": [
    "df_accidents.head()"
   ]
  },
  {
   "cell_type": "code",
   "execution_count": null,
   "metadata": {},
   "outputs": [],
   "source": []
  }
 ],
 "metadata": {
  "kernelspec": {
   "display_name": "Python 3",
   "language": "python",
   "name": "python3"
  },
  "language_info": {
   "codemirror_mode": {
    "name": "ipython",
    "version": 3
   },
   "file_extension": ".py",
   "mimetype": "text/x-python",
   "name": "python",
   "nbconvert_exporter": "python",
   "pygments_lexer": "ipython3",
   "version": "3.8.3"
  }
 },
 "nbformat": 4,
 "nbformat_minor": 2
}
