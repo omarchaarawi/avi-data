{
 "cells": [
  {
   "cell_type": "markdown",
   "metadata": {},
   "source": [
    "# Avalanche Data Scraper"
   ]
  },
  {
   "cell_type": "markdown",
   "metadata": {},
   "source": [
    "So I wanted to assemble some of the data from CAIC for awhile now, and decided to use the Covid-19 situation of 2020 as an excuse to get going on this.\n",
    "\n",
    "I am mostly concerned with what the last few years have looked like for Colorado in terms of avalanche danger and how that has corresoponded to injuries and/or fatalities. CAIC does a really good job reporting on avalanche conditions but unfortunately it is hard to find data from past reports assembed in one, easy-to-find location. I built a little scraper to pull the data from CAIC so that I can/ assemble it somewhere and play around with it a little."
   ]
  },
  {
   "cell_type": "markdown",
   "metadata": {},
   "source": [
    "For anyone unfamiliar with CAIC. This is the Colorado Avalanche Information Center. They do the avalanche research and reports in Colorado. This data is used by CDOT and backcountry explorers. https://avalanche.state.co.us/"
   ]
  },
  {
   "cell_type": "markdown",
   "metadata": {},
   "source": [
    "The forecasts are split into 10 zones, identified by zone_id.\n",
    "\n",
    "    zone_0 = Steamboat & Flat Tops\n",
    "    zone_1 = Front Range\n",
    "    zone_2 = Vail & Summit County\n",
    "    zone_3 = Sawatch\n",
    "    zone_4 = Aspen\n",
    "    zone_5 = Gunnison\n",
    "    zone_6 = Grand Mesa\n",
    "    zone_7 = North San Juan\n",
    "    zone_8 = South San Juan\n",
    "    zone_9 = Sangre de Cristo"
   ]
  },
  {
   "cell_type": "markdown",
   "metadata": {},
   "source": [
    "## The scraper\n",
    "\n",
    "The scraper I wrote works by iterating throught the archives on CAIC's website, pulling the data of interest. If you take a look at the **helpers.py** file you can see a function called **getAviData()**. The function takes a zone id as an argument and then gathers all the data on avi danger available from the CAIC archives. The data is saved as a csv in the format **\"[YYY-)MM-DD]_[zone_id]_aviDanger.csv\"**. If I pulled the data from zone 0 on September 10th, 2020, the file would be saved as **2020-09-10_zone_0_aviDanger.csv**. After the data is pulled it is saved in my personal archive, a folder named **data**. "
   ]
  },
  {
   "cell_type": "markdown",
   "metadata": {},
   "source": [
    "## The Avi Danger Data\n",
    "\n",
    "The data I pulled from CAIC was the rating for danger given that day. Danger is assessed by CAIC avalanche forecasters everyday during the avi season. The danger is rated at three different altitudes with a rating between 0 and 5.  \n",
    "\n",
    "        0 = No Rating\n",
    "        1 = Low\n",
    "        2 = Moderate\n",
    "        3 = Considerable\n",
    "        4 = High\n",
    "        5 = Extreme\n",
    "\n",
    "Here's an example of a forecast:\n",
    "![](./images/avi_forecast_example.png)"
   ]
  },
  {
   "cell_type": "markdown",
   "metadata": {},
   "source": [
    "After I pulled the data this is what a csv file looks like:\n",
    "![](./images/data_frame_aviDanger_example.png)"
   ]
  },
  {
   "cell_type": "markdown",
   "metadata": {},
   "source": [
    "# Connecting Burials to Avalanche Data"
   ]
  },
  {
   "cell_type": "markdown",
   "metadata": {},
   "source": [
    "Now that I can gather and save avalanche data I am ready to gather data concerning avalanche accidents related to the backcoutry."
   ]
  },
  {
   "cell_type": "markdown",
   "metadata": {},
   "source": [
    "All the data for accidents over the past seven years I have saved in a csv file. The data is organized as follows:\n",
    "          \n",
    "          date, zone_id, activity, number caught, number buried, number killed\n",
    "          \n",
    "Activities are abreviated:\n",
    "\n",
    "    sm = snowmobiling\n",
    "    sk = skiing\n",
    "    sb = snowboarding\n",
    "    sc = snow cat\n",
    "    ss = snow shoe\n",
    "    ft = on foot (such as in climbing)\n",
    "    ** = other such as shoveling ones roof off"
   ]
  },
  {
   "cell_type": "markdown",
   "metadata": {},
   "source": [
    "## Zone 1: Steamboat & Flat Tops"
   ]
  },
  {
   "cell_type": "code",
   "execution_count": 1,
   "metadata": {},
   "outputs": [],
   "source": [
    "import pandas as pd\n",
    "import numpy as np\n",
    "%matplotlib inline"
   ]
  },
  {
   "cell_type": "code",
   "execution_count": 2,
   "metadata": {},
   "outputs": [],
   "source": [
    "example = pd.read_csv(\"./2020-09-11_zone_0_aviDanger.csv\")\n",
    "df_example = pd.DataFrame(data=example)"
   ]
  },
  {
   "cell_type": "code",
   "execution_count": 5,
   "metadata": {},
   "outputs": [
    {
     "data": {
      "text/html": [
       "<div>\n",
       "<style scoped>\n",
       "    .dataframe tbody tr th:only-of-type {\n",
       "        vertical-align: middle;\n",
       "    }\n",
       "\n",
       "    .dataframe tbody tr th {\n",
       "        vertical-align: top;\n",
       "    }\n",
       "\n",
       "    .dataframe thead th {\n",
       "        text-align: right;\n",
       "    }\n",
       "</style>\n",
       "<table border=\"1\" class=\"dataframe\">\n",
       "  <thead>\n",
       "    <tr style=\"text-align: right;\">\n",
       "      <th></th>\n",
       "      <th>date</th>\n",
       "      <th>danger_below</th>\n",
       "      <th>danger_near</th>\n",
       "      <th>danger_above</th>\n",
       "    </tr>\n",
       "  </thead>\n",
       "  <tbody>\n",
       "    <tr>\n",
       "      <th>0</th>\n",
       "      <td>2013-12-31</td>\n",
       "      <td>2</td>\n",
       "      <td>2</td>\n",
       "      <td>2</td>\n",
       "    </tr>\n",
       "    <tr>\n",
       "      <th>1</th>\n",
       "      <td>2013-12-30</td>\n",
       "      <td>2</td>\n",
       "      <td>2</td>\n",
       "      <td>2</td>\n",
       "    </tr>\n",
       "    <tr>\n",
       "      <th>2</th>\n",
       "      <td>2013-12-29</td>\n",
       "      <td>2</td>\n",
       "      <td>2</td>\n",
       "      <td>2</td>\n",
       "    </tr>\n",
       "    <tr>\n",
       "      <th>3</th>\n",
       "      <td>2013-12-28</td>\n",
       "      <td>2</td>\n",
       "      <td>2</td>\n",
       "      <td>2</td>\n",
       "    </tr>\n",
       "    <tr>\n",
       "      <th>4</th>\n",
       "      <td>2013-12-27</td>\n",
       "      <td>2</td>\n",
       "      <td>2</td>\n",
       "      <td>2</td>\n",
       "    </tr>\n",
       "    <tr>\n",
       "      <th>5</th>\n",
       "      <td>2013-12-26</td>\n",
       "      <td>2</td>\n",
       "      <td>2</td>\n",
       "      <td>2</td>\n",
       "    </tr>\n",
       "    <tr>\n",
       "      <th>6</th>\n",
       "      <td>2013-12-25</td>\n",
       "      <td>2</td>\n",
       "      <td>2</td>\n",
       "      <td>3</td>\n",
       "    </tr>\n",
       "    <tr>\n",
       "      <th>7</th>\n",
       "      <td>2013-12-24</td>\n",
       "      <td>2</td>\n",
       "      <td>2</td>\n",
       "      <td>3</td>\n",
       "    </tr>\n",
       "    <tr>\n",
       "      <th>8</th>\n",
       "      <td>2013-12-23</td>\n",
       "      <td>2</td>\n",
       "      <td>3</td>\n",
       "      <td>3</td>\n",
       "    </tr>\n",
       "    <tr>\n",
       "      <th>9</th>\n",
       "      <td>2014-12-31</td>\n",
       "      <td>2</td>\n",
       "      <td>2</td>\n",
       "      <td>3</td>\n",
       "    </tr>\n",
       "  </tbody>\n",
       "</table>\n",
       "</div>"
      ],
      "text/plain": [
       "         date  danger_below  danger_near  danger_above\n",
       "0  2013-12-31             2            2             2\n",
       "1  2013-12-30             2            2             2\n",
       "2  2013-12-29             2            2             2\n",
       "3  2013-12-28             2            2             2\n",
       "4  2013-12-27             2            2             2\n",
       "5  2013-12-26             2            2             2\n",
       "6  2013-12-25             2            2             3\n",
       "7  2013-12-24             2            2             3\n",
       "8  2013-12-23             2            3             3\n",
       "9  2014-12-31             2            2             3"
      ]
     },
     "execution_count": 5,
     "metadata": {},
     "output_type": "execute_result"
    }
   ],
   "source": [
    "df_example.head(10\n",
    "               )"
   ]
  },
  {
   "cell_type": "code",
   "execution_count": 4,
   "metadata": {},
   "outputs": [],
   "source": [
    "data_SteamBoat = pd.read_csv(\"./zone_0_aviDanger.csv\")\n",
    "df_Steamboat = pd.DataFrame(data=data_SteamBoat)"
   ]
  },
  {
   "cell_type": "code",
   "execution_count": 5,
   "metadata": {},
   "outputs": [],
   "source": [
    "data = pd.read_csv(\"./accidents_.csv\")\n",
    "df_accidents = pd.DataFrame(data)"
   ]
  },
  {
   "cell_type": "code",
   "execution_count": 6,
   "metadata": {},
   "outputs": [
    {
     "data": {
      "text/html": [
       "<div>\n",
       "<style scoped>\n",
       "    .dataframe tbody tr th:only-of-type {\n",
       "        vertical-align: middle;\n",
       "    }\n",
       "\n",
       "    .dataframe tbody tr th {\n",
       "        vertical-align: top;\n",
       "    }\n",
       "\n",
       "    .dataframe thead th {\n",
       "        text-align: right;\n",
       "    }\n",
       "</style>\n",
       "<table border=\"1\" class=\"dataframe\">\n",
       "  <thead>\n",
       "    <tr style=\"text-align: right;\">\n",
       "      <th></th>\n",
       "      <th>date</th>\n",
       "      <th>zone_id</th>\n",
       "      <th>activity</th>\n",
       "      <th>caught</th>\n",
       "      <th>buried</th>\n",
       "      <th>killed</th>\n",
       "    </tr>\n",
       "  </thead>\n",
       "  <tbody>\n",
       "    <tr>\n",
       "      <th>0</th>\n",
       "      <td>2017-02-14</td>\n",
       "      <td>0</td>\n",
       "      <td>sm</td>\n",
       "      <td>2</td>\n",
       "      <td>1</td>\n",
       "      <td>1</td>\n",
       "    </tr>\n",
       "    <tr>\n",
       "      <th>1</th>\n",
       "      <td>2017-01-12</td>\n",
       "      <td>0</td>\n",
       "      <td>sk</td>\n",
       "      <td>1</td>\n",
       "      <td>0</td>\n",
       "      <td>0</td>\n",
       "    </tr>\n",
       "    <tr>\n",
       "      <th>2</th>\n",
       "      <td>2019-12-15</td>\n",
       "      <td>0</td>\n",
       "      <td>sb</td>\n",
       "      <td>2</td>\n",
       "      <td>1</td>\n",
       "      <td>0</td>\n",
       "    </tr>\n",
       "    <tr>\n",
       "      <th>3</th>\n",
       "      <td>2016-12-11</td>\n",
       "      <td>0</td>\n",
       "      <td>sm</td>\n",
       "      <td>1</td>\n",
       "      <td>2</td>\n",
       "      <td>0</td>\n",
       "    </tr>\n",
       "    <tr>\n",
       "      <th>4</th>\n",
       "      <td>2013-12-31</td>\n",
       "      <td>0</td>\n",
       "      <td>sb</td>\n",
       "      <td>1</td>\n",
       "      <td>1</td>\n",
       "      <td>1</td>\n",
       "    </tr>\n",
       "    <tr>\n",
       "      <th>...</th>\n",
       "      <td>...</td>\n",
       "      <td>...</td>\n",
       "      <td>...</td>\n",
       "      <td>...</td>\n",
       "      <td>...</td>\n",
       "      <td>...</td>\n",
       "    </tr>\n",
       "    <tr>\n",
       "      <th>89</th>\n",
       "      <td>2020-01-18</td>\n",
       "      <td>7</td>\n",
       "      <td>ft</td>\n",
       "      <td>1</td>\n",
       "      <td>1</td>\n",
       "      <td>1</td>\n",
       "    </tr>\n",
       "    <tr>\n",
       "      <th>90</th>\n",
       "      <td>2018-02-20</td>\n",
       "      <td>7</td>\n",
       "      <td>sb</td>\n",
       "      <td>2</td>\n",
       "      <td>1</td>\n",
       "      <td>0</td>\n",
       "    </tr>\n",
       "    <tr>\n",
       "      <th>91</th>\n",
       "      <td>2014-03-04</td>\n",
       "      <td>8</td>\n",
       "      <td>sk</td>\n",
       "      <td>1</td>\n",
       "      <td>1</td>\n",
       "      <td>1</td>\n",
       "    </tr>\n",
       "    <tr>\n",
       "      <th>92</th>\n",
       "      <td>2016-02-02</td>\n",
       "      <td>8</td>\n",
       "      <td>sm</td>\n",
       "      <td>2</td>\n",
       "      <td>1</td>\n",
       "      <td>1</td>\n",
       "    </tr>\n",
       "    <tr>\n",
       "      <th>93</th>\n",
       "      <td>2014-03-05</td>\n",
       "      <td>8</td>\n",
       "      <td>sm</td>\n",
       "      <td>1</td>\n",
       "      <td>1</td>\n",
       "      <td>1</td>\n",
       "    </tr>\n",
       "  </tbody>\n",
       "</table>\n",
       "<p>94 rows × 6 columns</p>\n",
       "</div>"
      ],
      "text/plain": [
       "          date  zone_id activity  caught  buried  killed\n",
       "0   2017-02-14        0       sm       2       1       1\n",
       "1   2017-01-12        0       sk       1       0       0\n",
       "2   2019-12-15        0       sb       2       1       0\n",
       "3   2016-12-11        0       sm       1       2       0\n",
       "4   2013-12-31        0       sb       1       1       1\n",
       "..         ...      ...      ...     ...     ...     ...\n",
       "89  2020-01-18        7       ft       1       1       1\n",
       "90  2018-02-20        7       sb       2       1       0\n",
       "91  2014-03-04        8       sk       1       1       1\n",
       "92  2016-02-02        8       sm       2       1       1\n",
       "93  2014-03-05        8       sm       1       1       1\n",
       "\n",
       "[94 rows x 6 columns]"
      ]
     },
     "execution_count": 6,
     "metadata": {},
     "output_type": "execute_result"
    }
   ],
   "source": [
    "df_accidents.head(100)"
   ]
  },
  {
   "cell_type": "code",
   "execution_count": null,
   "metadata": {},
   "outputs": [],
   "source": []
  }
 ],
 "metadata": {
  "kernelspec": {
   "display_name": "Python 3",
   "language": "python",
   "name": "python3"
  },
  "language_info": {
   "codemirror_mode": {
    "name": "ipython",
    "version": 3
   },
   "file_extension": ".py",
   "mimetype": "text/x-python",
   "name": "python",
   "nbconvert_exporter": "python",
   "pygments_lexer": "ipython3",
   "version": "3.8.3"
  }
 },
 "nbformat": 4,
 "nbformat_minor": 2
}
