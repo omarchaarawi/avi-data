{
 "cells": [
  {
   "cell_type": "markdown",
   "metadata": {},
   "source": [
    "# Improving runtimes of avi-scraper functions using multithreading"
   ]
  },
  {
   "cell_type": "markdown",
   "metadata": {},
   "source": [
    "I got the low down on possibly improving my runtimes for the HTML parser built to extract avi data. Gonna try some of that out using multithreading "
   ]
  },
  {
   "cell_type": "code",
   "execution_count": 1,
   "metadata": {},
   "outputs": [],
   "source": [
    "import re\n",
    "from datetime import datetime\n",
    "import requests\n",
    "import lxml.html as lh\n",
    "from datetime import date\n",
    "import time\n",
    "import pandas as pd\n",
    "import _thread\n",
    "from helpers import getAviData\n",
    "from helpers import getAviData_Optimized\n",
    "from helpers import get_report_ID_and_process\n",
    "import threading"
   ]
  },
  {
   "cell_type": "markdown",
   "metadata": {},
   "source": [
    "I was able to imrove the run time of \"getAviData\" by creating a multithread of the function responsible for requesting archive pages. Check out the time comparison between getAviData and getAviData_Optimized "
   ]
  },
  {
   "cell_type": "code",
   "execution_count": 2,
   "metadata": {},
   "outputs": [
    {
     "name": "stdout",
     "output_type": "stream",
     "text": [
      "test1 took 1.82 minutes\n",
      "test2 took 1.12 minutes\n",
      "test3 took 1.38 minutes\n",
      "test4 took 1.20 minutes\n",
      "test5 took 1.33 minutes\n"
     ]
    }
   ],
   "source": [
    "test = [\"test1\",\"test2\",\"test3\",\"test4\",\"test5\"]\n",
    "for x in test:\n",
    "    start = int(time.time())\n",
    "\n",
    "    # This is the work-horse that gets the data\n",
    "    getAviData_Optimized(0,x)\n",
    "    data = pd.read_csv(\"./\"+x+\"_zone_0_aviDanger.csv\")\n",
    "    df = pd.DataFrame(data = data)\n",
    "    while len(df) != 1043:\n",
    "        data = pd.read_csv(\"./\"+x+\"_zone_0_aviDanger.csv\")\n",
    "        df = pd.DataFrame(data = data)\n",
    "        \n",
    "    finish = int(time.time())\n",
    "    elapsed_time = (finish - start)/60\n",
    "    print(x + \" took {1:.2f} minutes\".format(x, elapsed_time))"
   ]
  },
  {
   "cell_type": "markdown",
   "metadata": {},
   "source": [
    "test1 took 1.82 minutes \n",
    "\n",
    "test2 took 1.12 minutes \n",
    "\n",
    "test3 took 1.38 minutes \n",
    "\n",
    "test4 took 1.20 minutes \n",
    "\n",
    "test5 took 1.33 minutes"
   ]
  },
  {
   "cell_type": "code",
   "execution_count": 3,
   "metadata": {},
   "outputs": [
    {
     "name": "stdout",
     "output_type": "stream",
     "text": [
      "test1B took 1.12 minutes\n",
      "test2B took 1.12 minutes\n",
      "test3B took 0.95 minutes\n",
      "test4B took 2.43 minutes\n",
      "test5B took 1.02 minutes\n"
     ]
    }
   ],
   "source": [
    "test = [\"test1B\",\"test2B\",\"test3B\",\"test4B\",\"test5B\"]\n",
    "for x in test:\n",
    "    start = int(time.time())\n",
    "\n",
    "    # This is the work-horse that gets the data\n",
    "    getAviData_Optimized(0,x)\n",
    "    data = pd.read_csv(\"./\"+x+\"_zone_0_aviDanger.csv\")\n",
    "    df = pd.DataFrame(data = data)\n",
    "    while len(df) != 1043:\n",
    "        data = pd.read_csv(\"./\"+x+\"_zone_0_aviDanger.csv\")\n",
    "        df = pd.DataFrame(data = data)\n",
    "        \n",
    "    finish = int(time.time())\n",
    "    elapsed_time = (finish - start)/60\n",
    "    print(x + \" took {1:.2f} minutes\".format(x, elapsed_time))"
   ]
  },
  {
   "cell_type": "markdown",
   "metadata": {},
   "source": [
    "test1B took 1.12 minutes\n",
    "\n",
    "test2B took 1.12 minutes\n",
    "\n",
    "test3B took 0.95 minutes\n",
    "\n",
    "test4B took 2.43 minutes\n",
    "\n",
    "test5B took 1.02 minutes"
   ]
  },
  {
   "cell_type": "code",
   "execution_count": 2,
   "metadata": {},
   "outputs": [
    {
     "name": "stdout",
     "output_type": "stream",
     "text": [
      "test1C took 21.95 minutes\n",
      "test2C took 25.20 minutes\n",
      "test3C took 25.52 minutes\n",
      "test4C took 25.70 minutes\n",
      "test5C took 25.80 minutes\n"
     ]
    }
   ],
   "source": [
    "test = [\"test1C\",\"test2C\",\"test3C\",\"test4C\",\"test5C\"]\n",
    "for x in test:\n",
    "    start = int(time.time())\n",
    "\n",
    "    # This is the work-horse that gets the data\n",
    "    getAviData(0,x)\n",
    "    data = pd.read_csv(\"./\"+x+\"_zone_0_aviDanger.csv\")\n",
    "    df = pd.DataFrame(data = data)\n",
    "    while len(df) != 1043:\n",
    "        data = pd.read_csv(\"./\"+x+\"_zone_0_aviDanger.csv\")\n",
    "        df = pd.DataFrame(data = data)\n",
    "        \n",
    "    finish = int(time.time())\n",
    "    elapsed_time = (finish - start)/60\n",
    "    print(x + \" took {1:.2f} minutes\".format(x, elapsed_time))"
   ]
  },
  {
   "cell_type": "markdown",
   "metadata": {},
   "source": [
    "test1C took 21.95 minutes\n",
    "\n",
    "test2C took 25.20 minutes\n",
    "\n",
    "test3C took 25.52 minutes\n",
    "\n",
    "test4C took 25.70 minutes\n",
    "\n",
    "test5C took 25.80 minutes"
   ]
  },
  {
   "cell_type": "code",
   "execution_count": null,
   "metadata": {},
   "outputs": [],
   "source": []
  }
 ],
 "metadata": {
  "kernelspec": {
   "display_name": "Python 3",
   "language": "python",
   "name": "python3"
  },
  "language_info": {
   "codemirror_mode": {
    "name": "ipython",
    "version": 3
   },
   "file_extension": ".py",
   "mimetype": "text/x-python",
   "name": "python",
   "nbconvert_exporter": "python",
   "pygments_lexer": "ipython3",
   "version": "3.8.3"
  }
 },
 "nbformat": 4,
 "nbformat_minor": 4
}
