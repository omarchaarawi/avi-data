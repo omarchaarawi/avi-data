{
 "cells": [
  {
   "cell_type": "markdown",
   "metadata": {},
   "source": [
    "# Improving runtimes of avi-scraper functions using multithreading"
   ]
  },
  {
   "cell_type": "markdown",
   "metadata": {},
   "source": [
    "I got the low down on possibly improving my runtimes for the HTML parser built to extract avi data. Gonna try some of that out using multithreading "
   ]
  },
  {
   "cell_type": "code",
   "execution_count": 8,
   "metadata": {},
   "outputs": [],
   "source": [
    "import numpy as np"
   ]
  },
  {
   "cell_type": "code",
   "execution_count": 16,
   "metadata": {},
   "outputs": [
    {
     "data": {
      "text/html": [
       "<style>\n",
       "td {\n",
       "  font-size: 18px\n",
       "}\n",
       " </style>\n"
      ],
      "text/plain": [
       "<IPython.core.display.HTML object>"
      ]
     },
     "metadata": {},
     "output_type": "display_data"
    }
   ],
   "source": [
    "%%html\n",
    "<style>\n",
    "td {\n",
    "  font-size: 18px\n",
    "}\n",
    " </style>"
   ]
  },
  {
   "cell_type": "markdown",
   "metadata": {},
   "source": [
    "I was able to imrove the run time of \"getAviData\" by creating a multithread of the function responsible for requesting archive pages. Check out the time comparison between getAviData and getAviData_Optimized "
   ]
  },
  {
   "cell_type": "markdown",
   "metadata": {},
   "source": [
    "```py\n",
    "test = [\"test1\",\"test2\",\"test3\",\"test4\",\"test5\"]\n",
    "for x in test:\n",
    "    start = int(time.time())\n",
    "\n",
    "    # This is the work-horse that gets the data\n",
    "    # Put function to be tested here:\n",
    "    getAviData_Optimized(0,x)\n",
    "    data = pd.read_csv(\"./\"+x+\"_zone_0_aviDanger.csv\")\n",
    "    df = pd.DataFrame(data = data)\n",
    "    # Stop time when the correct number of elements are found.\n",
    "    # 1043 at the time of this test\n",
    "    while len(df) != 1043:\n",
    "        data = pd.read_csv(\"./\"+x+\"_zone_0_aviDanger.csv\")\n",
    "        df = pd.DataFrame(data = data)\n",
    "        \n",
    "    finish = int(time.time())\n",
    "    elapsed_time = (finish - start)/60\n",
    "    print(x + \" took {1:.2f} minutes\".format(x, elapsed_time))\n",
    "    ```"
   ]
  },
  {
   "cell_type": "code",
   "execution_count": 9,
   "metadata": {},
   "outputs": [],
   "source": [
    "Not_optimized = np.array([21.95, 25.2, 25.52, 25.7, 25.8])\n",
    "Optimized = np.array([1.82, 1.12, 1.38, 1.20, 1.33])"
   ]
  },
  {
   "cell_type": "code",
   "execution_count": 10,
   "metadata": {},
   "outputs": [
    {
     "name": "stdout",
     "output_type": "stream",
     "text": [
      "24.834 1.37 1.4563735784475083 0.24314604664686612\n"
     ]
    }
   ],
   "source": [
    "mean_not_opt = Not_optimized.mean()\n",
    "mean_opt = Optimized.mean()\n",
    "std_dev_mean_not_opt = Not_optimized.std()\n",
    "std_dev_opt = Optimized.std()\n",
    "print(mean_not_opt,mean_opt,std_dev_mean_not_opt,std_dev_opt)"
   ]
  },
  {
   "cell_type": "markdown",
   "metadata": {},
   "source": [
    "## Results \n",
    "\n",
    "| Function type | Trial 1 | Trial 2 | Trial 3 | Trial 4 | Trial 5 | Mean  | Standard Deviation |\n",
    "|---------------|---------|---------|---------|---------|---------|-------|--------------------|\n",
    "| Not Optimized | 21.95   | 25.20   | 25.52   | 25.70   | 25.80   | 24.83 | 1.46               |\n",
    "| Optimized     | 1.82    | 1.12    | 1.38    | 1.20    | 1.33    | 1.37  | 0.24               |\n",
    "    \n",
    "\n",
    "\n",
    "Using an optimized function improved the speed by about 18x.\n",
    "\n",
    "Take a look at the **getAviData_Optimized** in the helpers.py folder to see how the function was optimized."
   ]
  }
 ],
 "metadata": {
  "kernelspec": {
   "display_name": "Python 3",
   "language": "python",
   "name": "python3"
  },
  "language_info": {
   "codemirror_mode": {
    "name": "ipython",
    "version": 3
   },
   "file_extension": ".py",
   "mimetype": "text/x-python",
   "name": "python",
   "nbconvert_exporter": "python",
   "pygments_lexer": "ipython3",
   "version": "3.8.3"
  }
 },
 "nbformat": 4,
 "nbformat_minor": 4
}
