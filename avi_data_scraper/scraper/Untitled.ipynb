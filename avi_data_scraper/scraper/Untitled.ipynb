{
 "cells": [
  {
   "cell_type": "code",
   "execution_count": 68,
   "metadata": {},
   "outputs": [],
   "source": [
    "import pandas as pd"
   ]
  },
  {
   "cell_type": "code",
   "execution_count": 69,
   "metadata": {},
   "outputs": [],
   "source": [
    "pd??\n"
   ]
  },
  {
   "cell_type": "code",
   "execution_count": 70,
   "metadata": {},
   "outputs": [],
   "source": [
    "danger = pd.read_csv(\"zone_0_aviDanger.csv\")"
   ]
  },
  {
   "cell_type": "code",
   "execution_count": 56,
   "metadata": {},
   "outputs": [
    {
     "data": {
      "text/plain": [
       "1031"
      ]
     },
     "execution_count": 56,
     "metadata": {},
     "output_type": "execute_result"
    }
   ],
   "source": [
    "int (danger.size/4)"
   ]
  },
  {
   "cell_type": "code",
   "execution_count": 134,
   "metadata": {},
   "outputs": [],
   "source": [
    "acc_File.set_index = 'date'"
   ]
  },
  {
   "cell_type": "code",
   "execution_count": 135,
   "metadata": {},
   "outputs": [],
   "source": [
    "acc_File = pd.read_csv(\"accidents_.csv\", index_col = \"date\")"
   ]
  },
  {
   "cell_type": "code",
   "execution_count": 136,
   "metadata": {},
   "outputs": [],
   "source": [
    "acc_File.rename_axis = \"date\""
   ]
  },
  {
   "cell_type": "code",
   "execution_count": 140,
   "metadata": {},
   "outputs": [],
   "source": [
    "acc_File.set_index = \"date\""
   ]
  },
  {
   "cell_type": "code",
   "execution_count": 139,
   "metadata": {
    "scrolled": true
   },
   "outputs": [
    {
     "data": {
      "text/plain": [
       "zone_id      0\n",
       "activity    sm\n",
       "caught       2\n",
       "buried       1\n",
       "killed       1\n",
       "Name: 2017-02-14, dtype: object"
      ]
     },
     "execution_count": 139,
     "metadata": {},
     "output_type": "execute_result"
    }
   ],
   "source": [
    "acc_File.loc[\"2017-02-14\"]"
   ]
  },
  {
   "cell_type": "code",
   "execution_count": 99,
   "metadata": {
    "scrolled": false
   },
   "outputs": [
    {
     "name": "stdout",
     "output_type": "stream",
     "text": [
      "            zone_id activity  caught  buried  killed\n",
      "date                                                \n",
      "2017-02-14        0       sm       2       1       1\n",
      "2017-01-12        0       sk       1       0       0\n",
      "2019-12-15        0       sb       2       1       0\n",
      "2016-12-11        0       sm       1       2       0\n",
      "2013-12-31        0       sb       1       1       1\n",
      "...             ...      ...     ...     ...     ...\n",
      "2020-01-18        7       ft       1       1       1\n",
      "2018-02-20        7       sb       2       1       0\n",
      "2014-03-04        8       sk       1       1       1\n",
      "2016-02-02        8       sm       2       1       1\n",
      "2014-03-05        8       sm       1       1       1\n",
      "\n",
      "[94 rows x 5 columns]\n"
     ]
    }
   ],
   "source": [
    "print(acc_File.set_index('date'))"
   ]
  },
  {
   "cell_type": "code",
   "execution_count": 119,
   "metadata": {
    "scrolled": true
   },
   "outputs": [
    {
     "data": {
      "text/plain": [
       "date        2017-02-14\n",
       "zone_id              0\n",
       "activity            sm\n",
       "caught               2\n",
       "buried               1\n",
       "killed               1\n",
       "Name: 0, dtype: object"
      ]
     },
     "execution_count": 119,
     "metadata": {},
     "output_type": "execute_result"
    }
   ],
   "source": [
    "acc_File.loc[0]"
   ]
  },
  {
   "cell_type": "code",
   "execution_count": 61,
   "metadata": {},
   "outputs": [
    {
     "name": "stdout",
     "output_type": "stream",
     "text": [
      "date             2013-12-31\n",
      " danger_below             2\n",
      " danger_near              2\n",
      " danger_above             2\n",
      "Name: 0, dtype: object\n",
      "date             2016-12-11\n",
      " danger_below             2\n",
      " danger_near              3\n",
      " danger_above             3\n",
      "Name: 330, dtype: object\n",
      "date             2017-02-14\n",
      " danger_below             2\n",
      " danger_near              2\n",
      " danger_above             2\n",
      "Name: 565, dtype: object\n",
      "date             2017-01-12\n",
      " danger_below             3\n",
      " danger_near              3\n",
      " danger_above             3\n",
      "Name: 598, dtype: object\n",
      "date             2019-12-15\n",
      " danger_below             3\n",
      " danger_near              3\n",
      " danger_above             3\n",
      "Name: 788, dtype: object\n",
      "date             2019-12-08\n",
      " danger_below             3\n",
      " danger_near              3\n",
      " danger_above             3\n",
      "Name: 795, dtype: object\n"
     ]
    }
   ],
   "source": [
    "for x in range(int(danger.size/4)):\n",
    "    for y in range(int(acc_File.size/6)):\n",
    "        if(acc_File.loc[y][0] == danger.loc[x][0] and acc_File.loc[y][1] == 0):\n",
    "            print(danger.loc[x])"
   ]
  },
  {
   "cell_type": "code",
   "execution_count": null,
   "metadata": {},
   "outputs": [],
   "source": []
  }
 ],
 "metadata": {
  "kernelspec": {
   "display_name": "Python 3",
   "language": "python",
   "name": "python3"
  },
  "language_info": {
   "codemirror_mode": {
    "name": "ipython",
    "version": 3
   },
   "file_extension": ".py",
   "mimetype": "text/x-python",
   "name": "python",
   "nbconvert_exporter": "python",
   "pygments_lexer": "ipython3",
   "version": "3.7.1"
  }
 },
 "nbformat": 4,
 "nbformat_minor": 2
}
