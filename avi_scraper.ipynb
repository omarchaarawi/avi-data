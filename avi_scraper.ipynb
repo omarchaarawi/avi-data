{
 "cells": [
  {
   "cell_type": "markdown",
   "metadata": {},
   "source": [
    "# Avalanche Data Scraper"
   ]
  },
  {
   "cell_type": "code",
   "execution_count": 1,
   "metadata": {},
   "outputs": [],
   "source": [
    "import pandas as pd\n",
    "import numpy as np\n",
    "import datetime\n",
    "import helpers\n",
    "import matplotlib.pylab as plt\n",
    "%matplotlib inline"
   ]
  },
  {
   "cell_type": "markdown",
   "metadata": {},
   "source": [
    "So I wanted to assemble some of the data from CAIC for awhile now, and decided to use the Covid-19 situation of 2020 as an excuse to get going on this.\n",
    "\n",
    "I am mostly concerned with what the last few years have looked like for Colorado in terms of avalanche danger and how that has corresoponded to injuries and/or fatalities. CAIC does a really good job reporting on avalanche conditions but unfortunately it is hard to find data from past reports assembed in one, easy-to-find location. I built a little scraper to pull the data from CAIC so that I can/ assemble it somewhere and play around with it a little."
   ]
  },
  {
   "cell_type": "markdown",
   "metadata": {},
   "source": [
    "For anyone unfamiliar with CAIC. This is the Colorado Avalanche Information Center. They do the avalanche research and reports in Colorado. This data is used by CDOT and backcountry explorers. https://avalanche.state.co.us/"
   ]
  },
  {
   "cell_type": "markdown",
   "metadata": {},
   "source": [
    "The forecasts are split into 10 zones, identified by zone_id.\n",
    "\n",
    "    zone_0 = Steamboat & Flat Tops\n",
    "    zone_1 = Front Range\n",
    "    zone_2 = Vail & Summit County\n",
    "    zone_3 = Sawatch\n",
    "    zone_4 = Aspen\n",
    "    zone_5 = Gunnison\n",
    "    zone_6 = Grand Mesa\n",
    "    zone_7 = North San Juan\n",
    "    zone_8 = South San Juan\n",
    "    zone_9 = Sangre de Cristo"
   ]
  },
  {
   "cell_type": "markdown",
   "metadata": {},
   "source": [
    "## The scraper\n",
    "\n",
    "The scraper I wrote works by iterating throught the archives on CAIC's website, pulling the data of interest. If you take a look at the **helpers.py** file you can see a function called **getAviData()**. The function takes a zone id as an argument and then gathers all the data on avi danger available from the CAIC archives. The data is saved as a csv in the format **\"[YYY-)MM-DD]_[zone_id]_aviDanger.csv\"**. If I pulled the data from zone 0 on September 10th, 2020, the file would be saved as **2020-09-10_zone_0_aviDanger.csv**. After the data is pulled it is saved in my personal archive, a folder named **data**. "
   ]
  },
  {
   "cell_type": "markdown",
   "metadata": {},
   "source": [
    "## The Avi Danger Data\n",
    "\n",
    "The data I pulled from CAIC was the rating for danger given that day. Danger is assessed by CAIC avalanche forecasters everyday during the avi season. The danger is rated at three different altitudes with a rating between 0 and 5.  \n",
    "\n",
    "        0 = No Rating\n",
    "        1 = Low\n",
    "        2 = Moderate\n",
    "        3 = Considerable\n",
    "        4 = High\n",
    "        5 = Extreme\n",
    "\n",
    "Here's an example of a forecast:\n",
    "![](./images/avi_forecast_example.png)"
   ]
  },
  {
   "cell_type": "markdown",
   "metadata": {},
   "source": [
    "After I pulled the data this is what a csv file looks like:\n",
    "![](./images/data_frame_aviDanger_example.png)"
   ]
  },
  {
   "cell_type": "markdown",
   "metadata": {},
   "source": [
    "# A Quick Look at the Forecast Data\n",
    "\n",
    "## Cleaning the data  \n",
    "\n",
    "1. Sort data by date\n",
    "2. Check and set data types\n",
    "    * date = datetime\n",
    "    * danger_below = int\n",
    "    * danger_near = int\n",
    "    * danger_above = int\n",
    "3. Save cleaned data as \"YYYY-MM-DD_zone_#_aviDanger_C.csv in folder ./data/clean/YYYY_MM_DD/\n",
    "    * The C after aviDanger denotes that this is a cleaned file\n",
    "4. Put it all together in a function and loop over zones 0 through 9"
   ]
  },
  {
   "cell_type": "markdown",
   "metadata": {},
   "source": [
    "### 1. Sort data by date"
   ]
  },
  {
   "cell_type": "code",
   "execution_count": 2,
   "metadata": {},
   "outputs": [],
   "source": [
    "# Specify path\n",
    "file = pd.read_csv(\"./data/raw/2020_09_11/2020-09-11_zone_0_aviDanger.csv\")\n",
    "\n",
    "# Create DataFrame\n",
    "zone_df = pd.DataFrame(data = file) \n",
    "\n",
    "# Convert date to datetime object using pandas\n",
    "zone_df['date'] = pd.to_datetime(zone_df.date) \n",
    "\n",
    "# Sort by date using pandas.sort()\n",
    "zone_df = zone_df.sort_values(by = 'date',ignore_index=True)"
   ]
  },
  {
   "cell_type": "markdown",
   "metadata": {},
   "source": [
    "### 2. Check and set data types"
   ]
  },
  {
   "cell_type": "code",
   "execution_count": 3,
   "metadata": {},
   "outputs": [
    {
     "data": {
      "text/plain": [
       "date            datetime64[ns]\n",
       "danger_below             int64\n",
       "danger_near              int64\n",
       "danger_above             int64\n",
       "dtype: object"
      ]
     },
     "execution_count": 3,
     "metadata": {},
     "output_type": "execute_result"
    }
   ],
   "source": [
    "zone_df.dtypes"
   ]
  },
  {
   "cell_type": "markdown",
   "metadata": {},
   "source": [
    "Looks good!"
   ]
  },
  {
   "cell_type": "markdown",
   "metadata": {},
   "source": [
    "### 3. Save cleaned data as \"YYYY-MM-DD_zone_#_aviDanger.csv in folder ./data/clean/YYYY_MM_DD/"
   ]
  },
  {
   "cell_type": "code",
   "execution_count": 4,
   "metadata": {},
   "outputs": [],
   "source": [
    "x = str(0)\n",
    "\n",
    "path = \"./data/clean/2020_09_11/2020-09-11_zone_\"+x+\"_aviDanger_C.csv\"\n",
    "zone_df.to_csv(path, index=False)"
   ]
  },
  {
   "cell_type": "markdown",
   "metadata": {},
   "source": [
    "### 4. Put it all together in a function and loop over zones 0 through 9"
   ]
  },
  {
   "cell_type": "markdown",
   "metadata": {},
   "source": [
    "```python\n",
    "def aviDanger_clean_and_save(input_path, output_path)  \n",
    "    d = pd.read_csv(input_path)\n",
    "    zone_df = pd.DataFrame(data = d) \n",
    "    zone_df['date'] = pd.to_datetime(zone_df.date) \n",
    "    zone_df = zone_df.sort_values(by = 'date',ignore_index=True)\n",
    "    zone_df.to_csv(output_path, index=False)\n",
    "```"
   ]
  },
  {
   "cell_type": "markdown",
   "metadata": {},
   "source": [
    "```py\n",
    "for x in range(0,10):\n",
    "    x = str(x)\n",
    "    input_path = \"./data/raw/2020_09_11/2020-09-11_zone_\"+x+\"_aviDanger.csv\"\n",
    "    output_path = \"./data/clean/2020_09_11/2020-09-11_zone_\"+x+\"_aviDanger_C.csv\"\n",
    "    helpers.aviDanger_clean_and_save(input_path=input_path, output_path=output_path)\n",
    "```"
   ]
  },
  {
   "cell_type": "markdown",
   "metadata": {},
   "source": [
    "## Plotting the data"
   ]
  },
  {
   "cell_type": "code",
   "execution_count": 5,
   "metadata": {},
   "outputs": [],
   "source": [
    "#TODO"
   ]
  },
  {
   "cell_type": "markdown",
   "metadata": {},
   "source": [
    "# Connecting Burials to Avalanche Data"
   ]
  },
  {
   "cell_type": "markdown",
   "metadata": {},
   "source": [
    "Now that I can gather and save avalanche data I am ready to gather data concerning avalanche accidents related to the backcoutry."
   ]
  },
  {
   "cell_type": "markdown",
   "metadata": {},
   "source": [
    "All the data for accidents over the past seven years I have saved in a csv file. The data is organized as follows:\n",
    "          \n",
    "          date, zone_id, activity, number caught, number buried, number killed\n",
    "          \n",
    "Activities are abreviated:\n",
    "\n",
    "    sm = snowmobiling\n",
    "    sk = skiing\n",
    "    sb = snowboarding\n",
    "    sc = snow cat\n",
    "    ss = snow shoe\n",
    "    ft = on foot (such as in climbing)\n",
    "    ** = other such as shoveling ones roof off"
   ]
  },
  {
   "cell_type": "markdown",
   "metadata": {},
   "source": [
    "## Accidents\n"
   ]
  },
  {
   "cell_type": "markdown",
   "metadata": {},
   "source": [
    "#### Is there a connection between accidents and the day of the week? Weekday vs weekend.\n"
   ]
  },
  {
   "cell_type": "markdown",
   "metadata": {},
   "source": [
    "First we have to clean the accident data a little: just cast the date as a datetime object"
   ]
  },
  {
   "cell_type": "code",
   "execution_count": 6,
   "metadata": {},
   "outputs": [],
   "source": [
    "data = pd.read_csv(\"./data/raw/2020_09_11/accidents_.csv\")\n",
    "df = pd.DataFrame(data = data)\n",
    "df['date'] = pd.to_datetime(df.date) "
   ]
  },
  {
   "cell_type": "markdown",
   "metadata": {},
   "source": [
    "Now let's create a new column called weekend and place True if weekend and False if not."
   ]
  },
  {
   "cell_type": "code",
   "execution_count": 7,
   "metadata": {},
   "outputs": [
    {
     "data": {
      "text/html": [
       "<div>\n",
       "<style scoped>\n",
       "    .dataframe tbody tr th:only-of-type {\n",
       "        vertical-align: middle;\n",
       "    }\n",
       "\n",
       "    .dataframe tbody tr th {\n",
       "        vertical-align: top;\n",
       "    }\n",
       "\n",
       "    .dataframe thead th {\n",
       "        text-align: right;\n",
       "    }\n",
       "</style>\n",
       "<table border=\"1\" class=\"dataframe\">\n",
       "  <thead>\n",
       "    <tr style=\"text-align: right;\">\n",
       "      <th></th>\n",
       "      <th>date</th>\n",
       "      <th>zone_id</th>\n",
       "      <th>activity</th>\n",
       "      <th>caught</th>\n",
       "      <th>buried</th>\n",
       "      <th>killed</th>\n",
       "      <th>weekend</th>\n",
       "    </tr>\n",
       "  </thead>\n",
       "  <tbody>\n",
       "    <tr>\n",
       "      <th>0</th>\n",
       "      <td>2017-02-14</td>\n",
       "      <td>0</td>\n",
       "      <td>sm</td>\n",
       "      <td>2</td>\n",
       "      <td>1</td>\n",
       "      <td>1</td>\n",
       "      <td>False</td>\n",
       "    </tr>\n",
       "    <tr>\n",
       "      <th>1</th>\n",
       "      <td>2017-01-12</td>\n",
       "      <td>0</td>\n",
       "      <td>sk</td>\n",
       "      <td>1</td>\n",
       "      <td>0</td>\n",
       "      <td>0</td>\n",
       "      <td>False</td>\n",
       "    </tr>\n",
       "    <tr>\n",
       "      <th>2</th>\n",
       "      <td>2019-12-15</td>\n",
       "      <td>0</td>\n",
       "      <td>sb</td>\n",
       "      <td>2</td>\n",
       "      <td>1</td>\n",
       "      <td>0</td>\n",
       "      <td>True</td>\n",
       "    </tr>\n",
       "    <tr>\n",
       "      <th>3</th>\n",
       "      <td>2016-12-11</td>\n",
       "      <td>0</td>\n",
       "      <td>sm</td>\n",
       "      <td>1</td>\n",
       "      <td>2</td>\n",
       "      <td>0</td>\n",
       "      <td>True</td>\n",
       "    </tr>\n",
       "    <tr>\n",
       "      <th>4</th>\n",
       "      <td>2013-12-31</td>\n",
       "      <td>0</td>\n",
       "      <td>sb</td>\n",
       "      <td>1</td>\n",
       "      <td>1</td>\n",
       "      <td>1</td>\n",
       "      <td>False</td>\n",
       "    </tr>\n",
       "  </tbody>\n",
       "</table>\n",
       "</div>"
      ],
      "text/plain": [
       "        date  zone_id activity  caught  buried  killed  weekend\n",
       "0 2017-02-14        0       sm       2       1       1    False\n",
       "1 2017-01-12        0       sk       1       0       0    False\n",
       "2 2019-12-15        0       sb       2       1       0     True\n",
       "3 2016-12-11        0       sm       1       2       0     True\n",
       "4 2013-12-31        0       sb       1       1       1    False"
      ]
     },
     "execution_count": 7,
     "metadata": {},
     "output_type": "execute_result"
    }
   ],
   "source": [
    "# string comprehension for weekend column\n",
    "df[\"weekend\"] = [(x.weekday() == 5 or x.weekday() == 6) for x in df['date']]\n",
    "\n",
    "# check new df\n",
    "df.head(5)"
   ]
  },
  {
   "cell_type": "code",
   "execution_count": 8,
   "metadata": {},
   "outputs": [
    {
     "name": "stdout",
     "output_type": "stream",
     "text": [
      "39.36% of accidents occurred on a weekend\n",
      "40.97% of caught occurred on a weekend\n",
      "41.94% of buried occurred on a weekend\n",
      "45.95% of killed occurred on a weekend\n"
     ]
    }
   ],
   "source": [
    "# divide total num_accidents_on_weekend by total_accidents\n",
    "percent_accident_weekend = (df[\"weekend\"].sum() / len(df.index) * 100)\n",
    "\n",
    "# divide total num_caught_on_weekend by total_accidents\n",
    "percent_caught_weekend = df[\"caught\"][df[\"weekend\"] == True].sum() / df[\"caught\"].sum() * 100\n",
    "\n",
    "percent_buried_weekend = df[\"killed\"][df[\"weekend\"] == True].sum() / df[\"killed\"].sum() * 100\n",
    "\n",
    "percent_killed_weekend = df[\"buried\"][df[\"weekend\"] == True].sum() / df[\"buried\"].sum() * 100\n",
    "\n",
    "\n",
    "print(\"{0:.2f}% of accidents occurred on a weekend\".format(percent_accident_weekend))\n",
    "print(\"{0:.2f}% of caught occurred on a weekend\".format(percent_caught_weekend))\n",
    "print(\"{0:.2f}% of buried occurred on a weekend\".format(percent_buried_weekend))\n",
    "print(\"{0:.2f}% of killed occurred on a weekend\".format(percent_killed_weekend))"
   ]
  },
  {
   "cell_type": "markdown",
   "metadata": {},
   "source": [
    "There is a disproportionately high number of accidents, burials, people caught, and deaths on the weekends. This is to be expected since more people recreate on the weekends. What is the most common day for accidents to occur though?\n"
   ]
  },
  {
   "cell_type": "code",
   "execution_count": 9,
   "metadata": {},
   "outputs": [],
   "source": [
    "day_of_week = [0,1,2,3,4,5,6]\n",
    "dict_by_day = {'mon':0, 'tue':0, 'wed':0, 'thu':0, 'fri':0, 'sat':0, 'sun':0}\n",
    "\n",
    "accidents_by_day = []\n",
    "deaths_by_day = []\n",
    "burials_by_day = []\n",
    "caught_by_day = []\n",
    "\n",
    "for x,day in zip(day_of_week,dict_by_day):\n",
    "    # get accidents by day\n",
    "    accidents_by_day.append(sum([y.weekday() == x for y in df['date']]))\n",
    "    \n",
    "    # get day of week\n",
    "    is_day = np.array([i.weekday() == x for i in df['date']])\n",
    "    \n",
    "    # get deaths by day\n",
    "    deaths_by_day.append(df[\"killed\"][is_day == True].sum())     \n",
    "\n",
    "    # get burials by day\n",
    "    burials_by_day.append(df['buried'][is_day == True].sum())\n",
    "    \n",
    "    # get caught by day\n",
    "    caught_by_day.append(df['caught'][is_day == True].sum())"
   ]
  },
  {
   "cell_type": "markdown",
   "metadata": {},
   "source": [
    "We have to normalize"
   ]
  },
  {
   "cell_type": "code",
   "execution_count": 10,
   "metadata": {},
   "outputs": [],
   "source": [
    "# Normalize by getting a percentage of occurrence_by day / total occurrences\n",
    "labels = [x for x in dict_by_day]\n",
    "caught = [y/sum(caught_by_day) *100 for y in caught_by_day]\n",
    "buried = [y/sum(burials_by_day)*100 for y in burials_by_day]\n",
    "deaths = [y/sum(deaths_by_day)*100 for y in deaths_by_day]\n",
    "accidents = [y/sum(accidents_by_day)*100 for y in accidents_by_day]"
   ]
  },
  {
   "cell_type": "code",
   "execution_count": 11,
   "metadata": {},
   "outputs": [
    {
     "data": {
      "image/png": "[encoded data removed]",
      "text/plain": [
       "<Figure size 1080x360 with 1 Axes>"
      ]
     },
     "metadata": {
      "needs_background": "light"
     },
     "output_type": "display_data"
    }
   ],
   "source": [
    "width = 0.2\n",
    "x = np.arange(len(labels))\n",
    "plt.figure(figsize=(15,5))\n",
    "plt.bar(x + width*2,accidents,width, color = [\"red\"])\n",
    "plt.bar(x + width,caught,width, color = [\"navy\"])\n",
    "plt.bar(x ,buried,width, color = [\"green\"])\n",
    "plt.bar(x - width ,deaths,width, color = [\"cyan\"])\n",
    "\n",
    "                       \n",
    "plt.legend(['accidents', 'caught', 'buried', 'killed'])\n",
    "plt.title('Normalized Incidents by day')\n",
    "plt.xlabel('Day')\n",
    "plt.ylabel('Percent')\n",
    "\n",
    "plt.xticks(x,labels)\n",
    "\n",
    "plt.show()"
   ]
  },
  {
   "cell_type": "markdown",
   "metadata": {},
   "source": [
    "**The most problematic day seems to be Saturday. This is likely because this day has the greatest number people recreating in avi terrain.**"
   ]
  },
  {
   "cell_type": "markdown",
   "metadata": {},
   "source": [
    "#### Is there a pattern in avi-forecast leading up to an incident?\n"
   ]
  },
  {
   "cell_type": "code",
   "execution_count": 33,
   "metadata": {},
   "outputs": [],
   "source": [
    "test = df\n",
    "test['d_below'] = -1\n",
    "test['d_near'] = -1\n",
    "test['d_above'] = -1"
   ]
  },
  {
   "cell_type": "code",
   "execution_count": 34,
   "metadata": {
    "scrolled": true
   },
   "outputs": [
    {
     "name": "stdout",
     "output_type": "stream",
     "text": [
      "Missing data for from 2018-10-15 00:00:00 in zone: 1.\n",
      "Missing data for from 2013-11-21 00:00:00 in zone: 1.\n",
      "Missing data for from 2013-11-24 00:00:00 in zone: 1.\n",
      "Missing data for from 2015-05-31 00:00:00 in zone: 2.\n",
      "Missing data for from 2013-12-22 00:00:00 in zone: 2.\n",
      "Missing data for from 2018-11-02 00:00:00 in zone: 3.\n",
      "Missing data for from 2015-05-03 00:00:00 in zone: 4.\n",
      "Missing data for from 2017-11-18 00:00:00 in zone: 4.\n",
      "Missing data for from 2015-05-17 00:00:00 in zone: 4.\n",
      "Missing data for from 2014-11-03 00:00:00 in zone: 5.\n"
     ]
    }
   ],
   "source": [
    "for x in range(10):\n",
    "    data = pd.read_csv(\"./data/clean/2020_09_11/2020-09-11_zone_\" + str(x) + \"_aviDanger_C.csv\")\n",
    "    df_zone = pd.DataFrame(data = data)\n",
    "    df_zone['date'] = pd.to_datetime(df_zone.date) \n",
    "\n",
    "    indices = test.index[test[\"zone_id\"] == x]\n",
    "    for index in indices:\n",
    "        try:\n",
    "            date = test.loc[index]['date']\n",
    "\n",
    "            d_below = df_zone['danger_below'][df_zone['date'] == date].values[0]\n",
    "            test.at[index, 'd_below'] = d_below\n",
    "\n",
    "            d_near =   df_zone['danger_near'][df_zone['date'] == date].values[0]\n",
    "            test.at[index, 'd_near'] = d_near\n",
    "\n",
    "            d_above =  df_zone['danger_above'][df_zone['date'] == date].values[0]\n",
    "            test.at[index, 'd_above'] = d_above\n",
    "\n",
    "        except:\n",
    "            print(\"Missing data for from {} in zone: {}.\".format(date,x))\n",
    "            pass"
   ]
  },
  {
   "cell_type": "code",
   "execution_count": 27,
   "metadata": {},
   "outputs": [
    {
     "data": {
      "text/html": [
       "<div>\n",
       "<style scoped>\n",
       "    .dataframe tbody tr th:only-of-type {\n",
       "        vertical-align: middle;\n",
       "    }\n",
       "\n",
       "    .dataframe tbody tr th {\n",
       "        vertical-align: top;\n",
       "    }\n",
       "\n",
       "    .dataframe thead th {\n",
       "        text-align: right;\n",
       "    }\n",
       "</style>\n",
       "<table border=\"1\" class=\"dataframe\">\n",
       "  <thead>\n",
       "    <tr style=\"text-align: right;\">\n",
       "      <th></th>\n",
       "      <th>date</th>\n",
       "      <th>zone_id</th>\n",
       "      <th>activity</th>\n",
       "      <th>caught</th>\n",
       "      <th>buried</th>\n",
       "      <th>killed</th>\n",
       "      <th>weekend</th>\n",
       "      <th>d_below</th>\n",
       "      <th>d_near</th>\n",
       "      <th>d_above</th>\n",
       "    </tr>\n",
       "  </thead>\n",
       "  <tbody>\n",
       "    <tr>\n",
       "      <th>0</th>\n",
       "      <td>2017-02-14</td>\n",
       "      <td>0</td>\n",
       "      <td>sm</td>\n",
       "      <td>2</td>\n",
       "      <td>1</td>\n",
       "      <td>1</td>\n",
       "      <td>False</td>\n",
       "      <td>2</td>\n",
       "      <td>2</td>\n",
       "      <td>2</td>\n",
       "    </tr>\n",
       "    <tr>\n",
       "      <th>1</th>\n",
       "      <td>2017-01-12</td>\n",
       "      <td>0</td>\n",
       "      <td>sk</td>\n",
       "      <td>1</td>\n",
       "      <td>0</td>\n",
       "      <td>0</td>\n",
       "      <td>False</td>\n",
       "      <td>3</td>\n",
       "      <td>3</td>\n",
       "      <td>3</td>\n",
       "    </tr>\n",
       "    <tr>\n",
       "      <th>2</th>\n",
       "      <td>2019-12-15</td>\n",
       "      <td>0</td>\n",
       "      <td>sb</td>\n",
       "      <td>2</td>\n",
       "      <td>1</td>\n",
       "      <td>0</td>\n",
       "      <td>True</td>\n",
       "      <td>3</td>\n",
       "      <td>3</td>\n",
       "      <td>3</td>\n",
       "    </tr>\n",
       "    <tr>\n",
       "      <th>3</th>\n",
       "      <td>2016-12-11</td>\n",
       "      <td>0</td>\n",
       "      <td>sm</td>\n",
       "      <td>1</td>\n",
       "      <td>2</td>\n",
       "      <td>0</td>\n",
       "      <td>True</td>\n",
       "      <td>2</td>\n",
       "      <td>3</td>\n",
       "      <td>3</td>\n",
       "    </tr>\n",
       "    <tr>\n",
       "      <th>4</th>\n",
       "      <td>2013-12-31</td>\n",
       "      <td>0</td>\n",
       "      <td>sb</td>\n",
       "      <td>1</td>\n",
       "      <td>1</td>\n",
       "      <td>1</td>\n",
       "      <td>False</td>\n",
       "      <td>2</td>\n",
       "      <td>2</td>\n",
       "      <td>2</td>\n",
       "    </tr>\n",
       "    <tr>\n",
       "      <th>5</th>\n",
       "      <td>2019-12-08</td>\n",
       "      <td>0</td>\n",
       "      <td>sk</td>\n",
       "      <td>1</td>\n",
       "      <td>1</td>\n",
       "      <td>1</td>\n",
       "      <td>True</td>\n",
       "      <td>3</td>\n",
       "      <td>3</td>\n",
       "      <td>3</td>\n",
       "    </tr>\n",
       "    <tr>\n",
       "      <th>6</th>\n",
       "      <td>2020-01-22</td>\n",
       "      <td>1</td>\n",
       "      <td>sk</td>\n",
       "      <td>1</td>\n",
       "      <td>0</td>\n",
       "      <td>0</td>\n",
       "      <td>False</td>\n",
       "      <td>1</td>\n",
       "      <td>2</td>\n",
       "      <td>2</td>\n",
       "    </tr>\n",
       "    <tr>\n",
       "      <th>7</th>\n",
       "      <td>2018-10-15</td>\n",
       "      <td>1</td>\n",
       "      <td>ft</td>\n",
       "      <td>1</td>\n",
       "      <td>0</td>\n",
       "      <td>0</td>\n",
       "      <td>False</td>\n",
       "      <td>None</td>\n",
       "      <td>None</td>\n",
       "      <td>None</td>\n",
       "    </tr>\n",
       "    <tr>\n",
       "      <th>8</th>\n",
       "      <td>2013-11-21</td>\n",
       "      <td>1</td>\n",
       "      <td>ft</td>\n",
       "      <td>1</td>\n",
       "      <td>0</td>\n",
       "      <td>0</td>\n",
       "      <td>False</td>\n",
       "      <td>None</td>\n",
       "      <td>None</td>\n",
       "      <td>None</td>\n",
       "    </tr>\n",
       "    <tr>\n",
       "      <th>9</th>\n",
       "      <td>2020-01-19</td>\n",
       "      <td>1</td>\n",
       "      <td>ft</td>\n",
       "      <td>1</td>\n",
       "      <td>0</td>\n",
       "      <td>0</td>\n",
       "      <td>True</td>\n",
       "      <td>1</td>\n",
       "      <td>2</td>\n",
       "      <td>2</td>\n",
       "    </tr>\n",
       "  </tbody>\n",
       "</table>\n",
       "</div>"
      ],
      "text/plain": [
       "        date  zone_id activity  caught  buried  killed  weekend d_below  \\\n",
       "0 2017-02-14        0       sm       2       1       1    False       2   \n",
       "1 2017-01-12        0       sk       1       0       0    False       3   \n",
       "2 2019-12-15        0       sb       2       1       0     True       3   \n",
       "3 2016-12-11        0       sm       1       2       0     True       2   \n",
       "4 2013-12-31        0       sb       1       1       1    False       2   \n",
       "5 2019-12-08        0       sk       1       1       1     True       3   \n",
       "6 2020-01-22        1       sk       1       0       0    False       1   \n",
       "7 2018-10-15        1       ft       1       0       0    False    None   \n",
       "8 2013-11-21        1       ft       1       0       0    False    None   \n",
       "9 2020-01-19        1       ft       1       0       0     True       1   \n",
       "\n",
       "  d_near d_above  \n",
       "0      2       2  \n",
       "1      3       3  \n",
       "2      3       3  \n",
       "3      3       3  \n",
       "4      2       2  \n",
       "5      3       3  \n",
       "6      2       2  \n",
       "7   None    None  \n",
       "8   None    None  \n",
       "9      2       2  "
      ]
     },
     "execution_count": 27,
     "metadata": {},
     "output_type": "execute_result"
    }
   ],
   "source": [
    "test.head(10)"
   ]
  },
  {
   "cell_type": "code",
   "execution_count": 113,
   "metadata": {
    "scrolled": true
   },
   "outputs": [],
   "source": [
    "# Remove rows where forecast data is missing\n",
    "dfAviDanger = test\n",
    "dropIndex = dfAviDanger.index[dfAviDanger[\"d_below\"] == -1]\n",
    "dfAviDanger = dfAviDanger.drop(dropIndex)\n",
    "avg_danger = []\n",
    "for x in dfAviDanger.index:\n",
    "    avg = (dfAviDanger[\"d_below\"][x] + dfAviDanger[\"d_near\"][x] + dfAviDanger[\"d_above\"][x]) / 3\n",
    "    avg_danger.append(np.round(avg, decimals = 1))\n",
    "dfAviDanger[\"avg_danger_day_of\"] = avg_danger"
   ]
  },
  {
   "cell_type": "code",
   "execution_count": 135,
   "metadata": {},
   "outputs": [
    {
     "data": {
      "image/png": "[encoded data removed]",
      "text/plain": [
       "<Figure size 432x288 with 1 Axes>"
      ]
     },
     "metadata": {
      "needs_background": "light"
     },
     "output_type": "display_data"
    }
   ],
   "source": [
    "_ = plt.hist(dfAviDanger[\"avg_danger_day_of\"], color = \"grey\", bins = [1,1.5,2,2.5,3,3.5,4], width = 0.4)"
   ]
  },
  {
   "cell_type": "markdown",
   "metadata": {},
   "source": [
    "Most avi accidents occured on moderate day forecasts. I wonder what percentage occurred on moderate days and the weekend. "
   ]
  },
  {
   "cell_type": "code",
   "execution_count": null,
   "metadata": {},
   "outputs": [],
   "source": []
  }
 ],
 "metadata": {
  "kernelspec": {
   "display_name": "Python 3",
   "language": "python",
   "name": "python3"
  },
  "language_info": {
   "codemirror_mode": {
    "name": "ipython",
    "version": 3
   },
   "file_extension": ".py",
   "mimetype": "text/x-python",
   "name": "python",
   "nbconvert_exporter": "python",
   "pygments_lexer": "ipython3",
   "version": "3.8.3"
  }
 },
 "nbformat": 4,
 "nbformat_minor": 2
}
